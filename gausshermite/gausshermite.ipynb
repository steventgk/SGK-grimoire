{
 "cells": [
  {
   "cell_type": "code",
   "execution_count": 1,
   "id": "431f4276",
   "metadata": {
    "ExecuteTime": {
     "end_time": "2022-09-22T13:12:55.206895Z",
     "start_time": "2022-09-22T13:12:53.776620Z"
    }
   },
   "outputs": [],
   "source": [
    "import gausshermite\n",
    "from scipy import stats\n",
    "import numpy as np\n",
    "import matplotlib.pyplot as plt"
   ]
  },
  {
   "cell_type": "code",
   "execution_count": 2,
   "id": "bde6bccd",
   "metadata": {
    "ExecuteTime": {
     "end_time": "2022-09-22T13:12:55.234513Z",
     "start_time": "2022-09-22T13:12:55.208907Z"
    }
   },
   "outputs": [],
   "source": [
    "x = np.random.normal(0,100,100)\n",
    "y = np.random.normal(0,100,100)\n",
    "vz = np.random.normal(0,100,100)\n",
    "bins = 10\n",
    "\n",
    "stat,edges,binnum = stats.binned_statistic(x, vz,\n",
    "                                   statistic=lambda bin_values: \\\n",
    "                                   gausshermite.GaussHermiteMoment(np.array(bin_values), 4),\n",
    "                                   bins=bins)\n",
    "\n",
    "stat2d,xedges,yedges,binnum = stats.binned_statistic_2d(x, y ,vz,\n",
    "                                  statistic=lambda bin_values: \\\n",
    "                                  gausshermite.GaussHermiteMoment(np.array(bin_values), 4),\n",
    "                                  bins=bins)"
   ]
  },
  {
   "cell_type": "code",
   "execution_count": 3,
   "id": "ae26a6fa",
   "metadata": {
    "ExecuteTime": {
     "end_time": "2022-09-22T13:12:55.238590Z",
     "start_time": "2022-09-22T13:12:55.236091Z"
    }
   },
   "outputs": [],
   "source": [
    "centers = edges[:-1]+np.diff(edges)[0]/2"
   ]
  },
  {
   "cell_type": "code",
   "execution_count": 4,
   "id": "1556e5e9",
   "metadata": {
    "ExecuteTime": {
     "end_time": "2022-09-22T13:12:55.390099Z",
     "start_time": "2022-09-22T13:12:55.240943Z"
    }
   },
   "outputs": [
    {
     "data": {
      "text/plain": [
       "[<matplotlib.lines.Line2D at 0x13b664b80>]"
      ]
     },
     "execution_count": 4,
     "metadata": {},
     "output_type": "execute_result"
    },
    {
     "data": {
      "image/png": "[encoded data removed]",
      "text/plain": [
       "<Figure size 432x288 with 1 Axes>"
      ]
     },
     "metadata": {
      "needs_background": "light"
     },
     "output_type": "display_data"
    }
   ],
   "source": [
    "plt.plot(centers,stat)"
   ]
  }
 ],
 "metadata": {
  "kernelspec": {
   "display_name": "Python 3 (ipykernel)",
   "language": "python",
   "name": "python3"
  },
  "language_info": {
   "codemirror_mode": {
    "name": "ipython",
    "version": 3
   },
   "file_extension": ".py",
   "mimetype": "text/x-python",
   "name": "python",
   "nbconvert_exporter": "python",
   "pygments_lexer": "ipython3",
   "version": "3.8.11"
  }
 },
 "nbformat": 4,
 "nbformat_minor": 5
}
