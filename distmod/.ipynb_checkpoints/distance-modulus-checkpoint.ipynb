{
 "cells": [
  {
   "cell_type": "code",
   "execution_count": 3,
   "id": "ca62db39",
   "metadata": {
    "ExecuteTime": {
     "end_time": "2022-09-18T20:16:53.537956Z",
     "start_time": "2022-09-18T20:16:53.535630Z"
    }
   },
   "outputs": [],
   "source": [
    "import numpy as np"
   ]
  },
  {
   "cell_type": "code",
   "execution_count": 13,
   "id": "7a2449b4",
   "metadata": {
    "ExecuteTime": {
     "end_time": "2022-09-18T20:24:10.296423Z",
     "start_time": "2022-09-18T20:24:10.287135Z"
    }
   },
   "outputs": [],
   "source": [
    "def distmod(app_mag=None,abs_mag=None,dist=None,extinc=None,output=None):\n",
    "    \"\"\"\n",
    "    Conversions through distance modulus equation for apparent, absolute\n",
    "    and distance parameters with optional reddening. \n",
    "    \n",
    "    Parameters\n",
    "    ----------\n",
    "    app_mag : float or ndarray of float\n",
    "        apparent magnitude(s) of source(s) in mag.\n",
    "    \n",
    "    abs_mag : float or ndarray of float\n",
    "        absolute magnitude(s) of source(s) in mag.\n",
    "        \n",
    "    dist : float or ndarray of float\n",
    "        distances(s) of source(s) in kpc.\n",
    "        \n",
    "    extinc : float or ndarray of float\n",
    "        extinction value(s) in relevant band of source(s) in mag.\n",
    "        \n",
    "    output : str\n",
    "        changes appropriate output. Also changes required inputs.\n",
    "        can take values:\n",
    "            * 'abs'    : calculate the absolute magnitude.\n",
    "                         Requires app_mag and dist.\n",
    "            * 'app'    : calculate the apparent magnitude.\n",
    "                         Requires abs_mag and dist.\n",
    "            * 'dist'   : calculate the distance.\n",
    "                         Requires app_mag and dist.\n",
    "            * 'extinc' : calculate the extinction.\n",
    "                         Requires app_mag, abs_mag and dist.\n",
    "        \n",
    "    Returns\n",
    "    -------\n",
    "    calculation: float or ndarray of float\n",
    "        dependent on the output parameter.\n",
    "    \"\"\"\n",
    "    \n",
    "    def app2abs(app_mag=None,dist=None,extinc=None):\n",
    "        if type(extinc) is type(None):\n",
    "            extinc = np.zeros(len(app_mag))\n",
    "        return app_mag - extinc - 5*(np.log10(dist)+2)\n",
    "\n",
    "    def abs2app(abs_mag=None,dist=None,extinc=None):\n",
    "        if type(extinc) is type(None):\n",
    "            extinc = np.zeros(len(abs_mag))\n",
    "        return abs_mag + extinc + 5*(np.log10(dist)+2)\n",
    "\n",
    "    def mag2dist(app_mag=None,abs_mag=None,extinc=None):\n",
    "        if type(extinc) is type(None):\n",
    "            extinc = np.zeros(len(app_mag))\n",
    "        return 10**(((app_mag - abs_mag - extinc)/5)-2)\n",
    "\n",
    "    def magdist2extinc(app_mag=None,abs_mag=None,dist=None):\n",
    "        return app_mag - 5*(np.log10(dist)+2) - abs_mag\n",
    "    \n",
    "    if output == 'abs':\n",
    "            return app2abs(app_mag=app_mag,dist=dist,extinc=extinc)\n",
    "    elif output=='app':\n",
    "            return abs2app(abs_mag=abs_mag,dist=dist,extinc=extinc)\n",
    "    elif output=='dist':\n",
    "            return mag2dist(app_mag=app_mag,abs_mag=abs_mag,extinc=extinc)\n",
    "    elif output=='extinc':\n",
    "            return magdist2extinc(app_mag=app_mag,abs_mag=abs_mag,dist=dist)\n",
    "        \n",
    "    else:\n",
    "        return print('output type not found: '+ \\\n",
    "                   'Options \"abs\",\"app\",\"dist\" and \"extinc\"')"
   ]
  },
  {
   "cell_type": "code",
   "execution_count": 14,
   "id": "326119e7",
   "metadata": {
    "ExecuteTime": {
     "end_time": "2022-09-18T20:24:11.364749Z",
     "start_time": "2022-09-18T20:24:11.361000Z"
    }
   },
   "outputs": [
    {
     "data": {
      "text/plain": [
       "-5.1"
      ]
     },
     "execution_count": 14,
     "metadata": {},
     "output_type": "execute_result"
    }
   ],
   "source": [
    "distmod(app_mag=10.,dist=10.,extinc=0.1,output='abs')"
   ]
  },
  {
   "cell_type": "code",
   "execution_count": 15,
   "id": "0ad15d9e",
   "metadata": {
    "ExecuteTime": {
     "end_time": "2022-09-18T20:24:11.523016Z",
     "start_time": "2022-09-18T20:24:11.518884Z"
    }
   },
   "outputs": [
    {
     "data": {
      "text/plain": [
       "10.0"
      ]
     },
     "execution_count": 15,
     "metadata": {},
     "output_type": "execute_result"
    }
   ],
   "source": [
    "distmod(abs_mag=-5.1,dist=10.,extinc=0.1,output='app')"
   ]
  },
  {
   "cell_type": "code",
   "execution_count": 16,
   "id": "b8365bcd",
   "metadata": {
    "ExecuteTime": {
     "end_time": "2022-09-18T20:24:11.697385Z",
     "start_time": "2022-09-18T20:24:11.693098Z"
    }
   },
   "outputs": [
    {
     "data": {
      "text/plain": [
       "10.0"
      ]
     },
     "execution_count": 16,
     "metadata": {},
     "output_type": "execute_result"
    }
   ],
   "source": [
    "distmod(abs_mag=-5.1,app_mag=10.,extinc=0.1,output='dist')"
   ]
  },
  {
   "cell_type": "code",
   "execution_count": 17,
   "id": "0c724192",
   "metadata": {
    "ExecuteTime": {
     "end_time": "2022-09-18T20:24:36.285589Z",
     "start_time": "2022-09-18T20:24:36.281207Z"
    }
   },
   "outputs": [
    {
     "data": {
      "text/plain": [
       "0.09999999999999964"
      ]
     },
     "execution_count": 17,
     "metadata": {},
     "output_type": "execute_result"
    }
   ],
   "source": [
    "distmod(abs_mag=-5.1,app_mag=10.,dist=10.,output='extinc')"
   ]
  },
  {
   "cell_type": "code",
   "execution_count": null,
   "id": "91515b01",
   "metadata": {},
   "outputs": [],
   "source": []
  }
 ],
 "metadata": {
  "kernelspec": {
   "display_name": "Python 3 (ipykernel)",
   "language": "python",
   "name": "python3"
  },
  "language_info": {
   "codemirror_mode": {
    "name": "ipython",
    "version": 3
   },
   "file_extension": ".py",
   "mimetype": "text/x-python",
   "name": "python",
   "nbconvert_exporter": "python",
   "pygments_lexer": "ipython3",
   "version": "3.8.11"
  },
  "toc": {
   "base_numbering": 1,
   "nav_menu": {},
   "number_sections": true,
   "sideBar": true,
   "skip_h1_title": false,
   "title_cell": "Table of Contents",
   "title_sidebar": "Contents",
   "toc_cell": true,
   "toc_position": {},
   "toc_section_display": true,
   "toc_window_display": true
  }
 },
 "nbformat": 4,
 "nbformat_minor": 5
}
